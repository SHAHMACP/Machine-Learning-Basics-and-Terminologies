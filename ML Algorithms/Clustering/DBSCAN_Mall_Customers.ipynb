{
 "cells": [
  {
   "cell_type": "markdown",
   "id": "5ec822a1",
   "metadata": {},
   "source": [
    "# DBSCAN Clustering on Mall Customers Dataset"
   ]
  },
  {
   "cell_type": "code",
   "execution_count": null,
   "id": "e0b6a47e",
   "metadata": {},
   "outputs": [],
   "source": [
    "\n",
    "# DBSCAN Clustering on Mall Customers Dataset\n",
    "\n",
    "import pandas as pd\n",
    "import matplotlib.pyplot as plt\n",
    "import seaborn as sns\n",
    "from sklearn.cluster import DBSCAN\n",
    "from sklearn.preprocessing import StandardScaler\n",
    "\n",
    "# Load dataset\n",
    "df = pd.read_csv(\"Mall_Customers.csv\")\n",
    "\n",
    "# Select features\n",
    "X = df.iloc[:, [3, 4]].values\n",
    "\n",
    "# Scale the data\n",
    "scaler = StandardScaler()\n",
    "X_scaled = scaler.fit_transform(X)\n",
    "\n",
    "# Apply DBSCAN\n",
    "dbscan = DBSCAN(eps=0.5, min_samples=5)\n",
    "df['Cluster'] = dbscan.fit_predict(X_scaled)\n",
    "\n",
    "# Plot the result\n",
    "plt.figure(figsize=(8, 6))\n",
    "sns.scatterplot(x=df['Annual Income (k$)'], y=df['Spending Score (1-100)'],\n",
    "                hue=df['Cluster'], palette='Set1', s=100)\n",
    "plt.title('DBSCAN Clustering on Mall Customers')\n",
    "plt.xlabel('Annual Income (k$)')\n",
    "plt.ylabel('Spending Score (1-100)')\n",
    "plt.legend(title='Cluster')\n",
    "plt.tight_layout()\n",
    "plt.show()\n"
   ]
  }
 ],
 "metadata": {},
 "nbformat": 4,
 "nbformat_minor": 5
}
