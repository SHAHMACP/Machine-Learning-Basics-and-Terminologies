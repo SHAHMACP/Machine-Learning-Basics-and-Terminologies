{
 "cells": [
  {
   "cell_type": "markdown",
   "id": "f4d05e58",
   "metadata": {},
   "source": [
    "# Agglomerative Hierarchical Clustering on Iris Dataset"
   ]
  },
  {
   "cell_type": "code",
   "execution_count": null,
   "id": "2ff81a09",
   "metadata": {},
   "outputs": [],
   "source": [
    "\n",
    "# Agglomerative Hierarchical Clustering on Iris Dataset\n",
    "\n",
    "## Step 1: Import Libraries\n",
    "from sklearn.cluster import AgglomerativeClustering\n",
    "from sklearn.datasets import load_iris\n",
    "from sklearn.metrics import silhouette_score\n",
    "import pandas as pd\n",
    "import seaborn as sns\n",
    "import matplotlib.pyplot as plt\n",
    "\n",
    "## Step 2: Load the Iris dataset\n",
    "iris = load_iris()\n",
    "X = iris.data\n",
    "df = pd.DataFrame(X, columns=iris.feature_names)\n",
    "\n",
    "## Step 3: Apply Agglomerative Clustering\n",
    "model = AgglomerativeClustering(n_clusters=3, affinity='euclidean', linkage='ward')\n",
    "df['Cluster'] = model.fit_predict(X)\n",
    "\n",
    "## Step 4: Visualize the Clusters\n",
    "plt.figure(figsize=(8, 6))\n",
    "sns.scatterplot(x=df['petal length (cm)'], y=df['petal width (cm)'],\n",
    "                hue=df['Cluster'], palette='Set1')\n",
    "plt.title('Agglomerative Clustering (Ward linkage) on Iris Dataset')\n",
    "plt.xlabel('Petal Length (cm)')\n",
    "plt.ylabel('Petal Width (cm)')\n",
    "plt.legend(title='Cluster')\n",
    "plt.tight_layout()\n",
    "plt.show()\n",
    "\n",
    "## Step 5: Evaluate using Silhouette Score\n",
    "score = silhouette_score(X, df['Cluster'])\n",
    "print(\"Silhouette Score:\", score)\n"
   ]
  }
 ],
 "metadata": {},
 "nbformat": 4,
 "nbformat_minor": 5
}
