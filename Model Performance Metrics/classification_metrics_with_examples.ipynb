{
 "cells": [
  {
   "cell_type": "markdown",
   "id": "7284ec37",
   "metadata": {},
   "source": [
    "\n",
    "# Classification Metrics\n",
    "\n",
    "## Confusion Matrix\n",
    "\n",
    "|                     | Predicted Positive | Predicted Negative |\n",
    "|---------------------|--------------------|--------------------|\n",
    "| **Actual Positive** | True Positive (TP) | False Negative (FN)|\n",
    "| **Actual Negative** | False Positive (FP)| True Negative (TN) |\n"
   ]
  },
  {
   "cell_type": "markdown",
   "id": "e15a0661",
   "metadata": {},
   "source": [
    "\n",
    "## Accuracy\n",
    "- **Formula:** Accuracy = (TP + TN) / (TP + TN + FP + FN)\n",
    "- **Use Case:** Works well with balanced datasets.\n"
   ]
  },
  {
   "cell_type": "markdown",
   "id": "cb8af005",
   "metadata": {},
   "source": [
    "\n",
    "## Precision\n",
    "- **Formula:** Precision = TP / (TP + FP)\n",
    "- **Use Case:** Important when false positives are costly.\n"
   ]
  },
  {
   "cell_type": "markdown",
   "id": "9037efeb",
   "metadata": {},
   "source": [
    "\n",
    "## Recall (Sensitivity)\n",
    "- **Formula:** Recall = TP / (TP + FN)\n",
    "- **Use Case:** Important when false negatives are risky.\n"
   ]
  },
  {
   "cell_type": "markdown",
   "id": "fafa597f",
   "metadata": {},
   "source": [
    "\n",
    "## F1-Score\n",
    "- **Formula:** F1 = 2 * (Precision * Recall) / (Precision + Recall)\n",
    "- **Use Case:** Useful for uneven class distribution.\n"
   ]
  },
  {
   "cell_type": "code",
   "execution_count": 1,
   "id": "3138df6c",
   "metadata": {},
   "outputs": [
    {
     "name": "stdout",
     "output_type": "stream",
     "text": [
      "Confusion Matrix:\n",
      "[[2 1]\n",
      " [1 3]]\n",
      "Accuracy: 0.7142857142857143\n",
      "Precision: 0.75\n",
      "Recall: 0.75\n",
      "F1 Score: 0.75\n"
     ]
    }
   ],
   "source": [
    "\n",
    "from sklearn.metrics import confusion_matrix, accuracy_score, precision_score, recall_score, f1_score\n",
    "\n",
    "# Sample data\n",
    "y_true = [1, 0, 1, 1, 0, 1, 0]\n",
    "y_pred = [1, 0, 1, 0, 0, 1, 1]\n",
    "\n",
    "# Metrics calculation\n",
    "print(\"Confusion Matrix:\")\n",
    "print(confusion_matrix(y_true, y_pred))\n",
    "print(\"Accuracy:\", accuracy_score(y_true, y_pred))\n",
    "print(\"Precision:\", precision_score(y_true, y_pred))\n",
    "print(\"Recall:\", recall_score(y_true, y_pred))\n",
    "print(\"F1 Score:\", f1_score(y_true, y_pred))\n"
   ]
  }
 ],
 "metadata": {
  "kernelspec": {
   "display_name": "Python 3",
   "language": "python",
   "name": "python3"
  },
  "language_info": {
   "codemirror_mode": {
    "name": "ipython",
    "version": 3
   },
   "file_extension": ".py",
   "mimetype": "text/x-python",
   "name": "python",
   "nbconvert_exporter": "python",
   "pygments_lexer": "ipython3",
   "version": "3.13.3"
  }
 },
 "nbformat": 4,
 "nbformat_minor": 5
}
