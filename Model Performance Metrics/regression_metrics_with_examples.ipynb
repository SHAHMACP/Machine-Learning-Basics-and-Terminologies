{
 "cells": [
  {
   "cell_type": "markdown",
   "id": "be544d56",
   "metadata": {},
   "source": [
    "\n",
    "# 📈 Regression Metrics\n",
    "\n",
    "## 🔢 Mean Absolute Error (MAE)\n",
    "- **Formula:** MAE = (1/n) * Σ|yᵢ - ŷᵢ|\n"
   ]
  },
  {
   "cell_type": "markdown",
   "id": "710ad784",
   "metadata": {},
   "source": [
    "\n",
    "## Mean Squared Error (MSE)\n",
    "- **Formula:** MSE = (1/n) * Σ(yᵢ - ŷᵢ)²\n"
   ]
  },
  {
   "cell_type": "markdown",
   "id": "263fba2e",
   "metadata": {},
   "source": [
    "\n",
    "## Root Mean Squared Error (RMSE)\n",
    "- **Formula:** RMSE = √MSE\n"
   ]
  },
  {
   "cell_type": "markdown",
   "id": "d32f5a2d",
   "metadata": {},
   "source": [
    "\n",
    "## R² Score\n",
    "- **Formula:** R² = 1 - (Σ(yᵢ - ŷᵢ)² / Σ(yᵢ - ȳ)²)\n"
   ]
  },
  {
   "cell_type": "code",
   "execution_count": 1,
   "id": "789ceb0f",
   "metadata": {},
   "outputs": [
    {
     "name": "stdout",
     "output_type": "stream",
     "text": [
      "MAE: 0.5\n",
      "MSE: 0.375\n",
      "RMSE: 0.6123724356957945\n",
      "R² Score: 0.9486081370449679\n"
     ]
    }
   ],
   "source": [
    "\n",
    "from sklearn.metrics import mean_absolute_error, mean_squared_error, r2_score\n",
    "import numpy as np\n",
    "\n",
    "# Sample data\n",
    "y_true = [3.0, -0.5, 2.0, 7.0]\n",
    "y_pred = [2.5, 0.0, 2.0, 8.0]\n",
    "\n",
    "# Metrics calculation\n",
    "mae = mean_absolute_error(y_true, y_pred)\n",
    "mse = mean_squared_error(y_true, y_pred)\n",
    "rmse = np.sqrt(mse)\n",
    "r2 = r2_score(y_true, y_pred)\n",
    "\n",
    "print(\"MAE:\", mae)\n",
    "print(\"MSE:\", mse)\n",
    "print(\"RMSE:\", rmse)\n",
    "print(\"R² Score:\", r2)\n"
   ]
  },
  {
   "cell_type": "code",
   "execution_count": null,
   "id": "63fa8bcb",
   "metadata": {},
   "outputs": [],
   "source": []
  }
 ],
 "metadata": {
  "kernelspec": {
   "display_name": "Python 3",
   "language": "python",
   "name": "python3"
  },
  "language_info": {
   "codemirror_mode": {
    "name": "ipython",
    "version": 3
   },
   "file_extension": ".py",
   "mimetype": "text/x-python",
   "name": "python",
   "nbconvert_exporter": "python",
   "pygments_lexer": "ipython3",
   "version": "3.13.3"
  }
 },
 "nbformat": 4,
 "nbformat_minor": 5
}
