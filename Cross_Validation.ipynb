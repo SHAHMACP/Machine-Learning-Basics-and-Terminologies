{
  "nbformat": 4,
  "nbformat_minor": 0,
  "metadata": {
    "colab": {
      "provenance": [],
      "authorship_tag": "ABX9TyPM/yqv4Y9b5Fdx19LwACXk",
      "include_colab_link": true
    },
    "kernelspec": {
      "name": "python3",
      "display_name": "Python 3"
    },
    "language_info": {
      "name": "python"
    }
  },
  "cells": [
    {
      "cell_type": "markdown",
      "metadata": {
        "id": "view-in-github",
        "colab_type": "text"
      },
      "source": [
        "<a href=\"https://colab.research.google.com/github/SHAHMACP/Machine-Learning-Basics-and-Terminologies/blob/main/Cross_Validation.ipynb\" target=\"_parent\"><img src=\"https://colab.research.google.com/assets/colab-badge.svg\" alt=\"Open In Colab\"/></a>"
      ]
    },
    {
      "cell_type": "code",
      "source": [
        "import numpy as np\n",
        "import pandas as pd\n",
        "from sklearn.model_selection import KFold, StratifiedKFold, LeaveOneOut, ShuffleSplit, LeavePOut, cross_val_score, train_test_split\n",
        "from sklearn.datasets import load_iris\n",
        "from sklearn.ensemble import RandomForestClassifier\n",
        "from sklearn.preprocessing import StandardScaler"
      ],
      "metadata": {
        "id": "eU36i96dOtgA"
      },
      "execution_count": 1,
      "outputs": []
    },
    {
      "cell_type": "code",
      "source": [
        "# Load dataset\n",
        "data = load_iris()\n",
        "X, y = data.data, data.target\n",
        "\n",
        "# Standardize features\n",
        "scaler = StandardScaler()\n",
        "X = scaler.fit_transform(X)\n",
        "\n",
        "# Initialize model\n",
        "model = RandomForestClassifier(n_estimators=100, random_state=42)"
      ],
      "metadata": {
        "id": "ADmIZujWUYT4"
      },
      "execution_count": 2,
      "outputs": []
    },
    {
      "cell_type": "code",
      "source": [
        "# Train-test split (without cross-validation)\n",
        "X_train, X_test, y_train, y_test = train_test_split(X, y, test_size=0.2, random_state=42)\n",
        "model.fit(X_train, y_train)\n",
        "test_score = model.score(X_test, y_test)\n",
        "print(f\"Test Accuracy without Cross-Validation: {test_score:.4f}\")"
      ],
      "metadata": {
        "colab": {
          "base_uri": "https://localhost:8080/"
        },
        "id": "sAeF50PBV72R",
        "outputId": "51f858b2-e9e4-43f2-d57e-5752a9277248"
      },
      "execution_count": 3,
      "outputs": [
        {
          "output_type": "stream",
          "name": "stdout",
          "text": [
            "Test Accuracy without Cross-Validation: 1.0000\n"
          ]
        }
      ]
    },
    {
      "cell_type": "code",
      "source": [
        "# Define different cross-validation techniques\n",
        "cv_methods = {\n",
        "    \"K-Fold (5)\": KFold(n_splits=5, shuffle=True, random_state=42),\n",
        "    \"Stratified K-Fold (5)\": StratifiedKFold(n_splits=5, shuffle=True, random_state=42),\n",
        "    \"Leave-One-Out\": LeaveOneOut(),\n",
        "    \"Leave-P-Out (2)\": LeavePOut(p=2),\n",
        "    \"Shuffle_split\" : ShuffleSplit(test_size=0.3,train_size=0.5,n_splits=10)\n",
        "}"
      ],
      "metadata": {
        "id": "UTnSc6fiWBij"
      },
      "execution_count": 4,
      "outputs": []
    },
    {
      "cell_type": "code",
      "source": [
        "# Perform cross-validation and print results\n",
        "results = {}\n",
        "for name, cv in cv_methods.items():\n",
        "    scores = cross_val_score(model, X, y, cv=cv, scoring='accuracy')\n",
        "    results[name] = {\"Mean Accuracy\": np.mean(scores)}\n",
        "\n",
        "df_results = pd.DataFrame(results).T\n",
        "print(df_results)\n"
      ],
      "metadata": {
        "id": "Xz-mbJrQWUiu",
        "colab": {
          "base_uri": "https://localhost:8080/"
        },
        "outputId": "5a23dddc-5b40-4cd4-c2b8-0fe77d6c0a06"
      },
      "execution_count": 5,
      "outputs": [
        {
          "output_type": "stream",
          "name": "stdout",
          "text": [
            "                       Mean Accuracy\n",
            "K-Fold (5)                  0.960000\n",
            "Stratified K-Fold (5)       0.946667\n",
            "Leave-One-Out               0.953333\n",
            "Leave-P-Out (2)             0.958166\n",
            "Shuffle_split               0.942222\n"
          ]
        }
      ]
    },
    {
      "cell_type": "code",
      "source": [],
      "metadata": {
        "id": "k69UjQZUWXNU"
      },
      "execution_count": 5,
      "outputs": []
    }
  ]
}